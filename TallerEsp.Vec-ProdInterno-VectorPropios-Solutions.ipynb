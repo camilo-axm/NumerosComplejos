{
 "cells": [
  {
   "cell_type": "markdown",
   "id": "cd5d76e0",
   "metadata": {},
   "source": [
    "Solución Taller Complex Numbers\n",
    "Nombre: Camilo Aguirre\n",
    "CNYT-2025-2"
   ]
  },
  {
   "cell_type": "markdown",
   "id": "49d975e1",
   "metadata": {},
   "source": [
    "## Exercise 1: Complex Internal Product for Column Vectors\n",
    "\n",
    "Given two complex column vectors:\n",
    "\n",
    "$$ \\mathbf{a} = \\begin{bmatrix} 1 + 2i \\\\ 3 - 4i \\end{bmatrix}, \\quad \\mathbf{b} = \\begin{bmatrix} 2 - i \\\\ -1 + 3i \\end{bmatrix} $$\n",
    "\n",
    "Calculate the complex internal product $ \\langle \\mathbf{a}, \\mathbf{b} \\rangle $."
   ]
  },
  {
   "cell_type": "code",
   "execution_count": 8,
   "id": "6fccf1fb",
   "metadata": {},
   "outputs": [
    {
     "name": "stdout",
     "output_type": "stream",
     "text": [
      "Vector a: [1.+2.j 3.-4.j]\n",
      "Vector b: [ 2.-1.j -1.+3.j]\n",
      "Producto interno complejo <a,b> = (-15+0j)\n"
     ]
    }
   ],
   "source": [
    "import numpy as np\n",
    "\n",
    "# Definir los vectores columna como arreglos de NumPy con dtype=complex\n",
    "a = np.array([1+2j, 3-4j], dtype=complex)\n",
    "b = np.array([2-1j, -1+3j], dtype=complex)\n",
    "\n",
    "# Producto interno complejo: conj(a)^T * b\n",
    "inner_product = np.vdot(a, b)   # vdot ya toma el conjugado del primero\n",
    "# También se puede usar: inner_product = np.conjugate(a).T @ b\n",
    "\n",
    "print(\"Vector a:\", a)\n",
    "print(\"Vector b:\", b)\n",
    "print(\"Producto interno complejo <a,b> =\", inner_product)\n",
    "\n"
   ]
  },
  {
   "cell_type": "markdown",
   "id": "ada5a1d1",
   "metadata": {},
   "source": [
    "## Exercise 2: Complex Internal Product for Square Complex Matrices\n",
    "\n",
    "Given two square complex matrices:\n",
    "\n",
    "$$ A = \\begin{bmatrix} 1+i & 2-2i \\\\ 3+3i & 4-i \\end{bmatrix}, \\quad B = \\begin{bmatrix} 1-2i & 3+i \\\\ 4-4i & 2+2i \\end{bmatrix} $$\n",
    "\n",
    "Calculate the complex internal product $ \\langle A, B \\rangle $.\n"
   ]
  },
  {
   "cell_type": "code",
   "execution_count": 3,
   "id": "de104b7b",
   "metadata": {},
   "outputs": [
    {
     "name": "stdout",
     "output_type": "stream",
     "text": [
      "Producto interno complejo <A,B> = (9-9j)\n"
     ]
    }
   ],
   "source": [
    "import numpy as np\n",
    "\n",
    "# Definir matrices complejas\n",
    "A = np.array([[1+1j, 2-2j],\n",
    "              [3+3j, 4-1j]], dtype=complex)\n",
    "\n",
    "B = np.array([[1-2j, 3+1j],\n",
    "              [4-4j, 2+2j]], dtype=complex)\n",
    "\n",
    "# Producto interno: sum(conj(A_ij) * B_ij)\n",
    "inner_product = np.vdot(A, B)   # vdot aplanará matrices y hace conj(A)*B\n",
    "# Otra forma: inner_product = np.sum(np.conjugate(A) * B)\n",
    "\n",
    "print(\"Producto interno complejo <A,B> =\", inner_product)\n"
   ]
  },
  {
   "cell_type": "markdown",
   "id": "5dcf7039",
   "metadata": {},
   "source": [
    "# Exercises on eigenvalues and eigenvectors\n",
    "\n",
    "## Exercise 1: Compute Eigenvalues and Eigenvectors of a Real Matrix\n",
    "\n",
    "Compute the eigenvalues and eigenvectors of the following real matrix:\n",
    "\n",
    "$$\n",
    "A = \\begin{pmatrix}\n",
    "4 & 1 \\\\\n",
    "2 & 3\n",
    "\\end{pmatrix}\n",
    "$$\n",
    "\n",
    "**Hint:** Use `numpy.linalg.eig`."
   ]
  },
  {
   "cell_type": "code",
   "execution_count": 4,
   "id": "29444e7c",
   "metadata": {},
   "outputs": [
    {
     "name": "stdout",
     "output_type": "stream",
     "text": [
      "Matriz A:\n",
      " [[4. 1.]\n",
      " [2. 3.]]\n",
      "\n",
      "Autovalores (eigenvalues): [5. 2.]\n",
      "\n",
      "Autovectores (columnas):\n",
      " [[ 0.70710678 -0.4472136 ]\n",
      " [ 0.70710678  0.89442719]]\n"
     ]
    }
   ],
   "source": [
    "import numpy as np\n",
    "\n",
    "# Matriz A\n",
    "A = np.array([[4, 1],\n",
    "              [2, 3]], dtype=float)\n",
    "\n",
    "# Cálculo con numpy\n",
    "evals, evecs = np.linalg.eig(A)\n",
    "\n",
    "print(\"Matriz A:\\n\", A)\n",
    "print(\"\\nAutovalores (eigenvalues):\", evals)\n",
    "print(\"\\nAutovectores (columnas):\\n\", evecs)\n"
   ]
  },
  {
   "cell_type": "markdown",
   "id": "10872733",
   "metadata": {},
   "source": [
    "## Exercise 2: Eigenvalues and Eigenvectors of a Complex Matrix\n",
    "\n",
    "Compute the eigenvalues and eigenvectors of the following complex matrix:\n",
    "\n",
    "$$\n",
    "B = \\begin{pmatrix}\n",
    "1 + 2i & 2 + 3i \\\\\n",
    "4 + 5i & 6 + 7i\n",
    "\\end{pmatrix}\n",
    "$$\n",
    "\n",
    "where \\(i\\) is the imaginary unit.\n",
    "\n",
    "**Hint:** Ensure your matrix is defined with complex numbers in Python using `dtype=complex`."
   ]
  },
  {
   "cell_type": "code",
   "execution_count": 5,
   "id": "7d456941",
   "metadata": {},
   "outputs": [
    {
     "name": "stdout",
     "output_type": "stream",
     "text": [
      "Matriz B:\n",
      " [[1.+2.j 2.+3.j]\n",
      " [4.+5.j 6.+7.j]]\n",
      "\n",
      "Eigenvalores (values):\n",
      " [-0.255195-0.093636j  7.255195+9.093636j]\n",
      "\n",
      "Eigenvectores (columnas):\n",
      " [[ 0.828068+0.j        0.352998+0.047827j]\n",
      " [-0.559984-0.02686j   0.934401+0.j      ]]\n",
      "\n",
      "Verificación autovector 1:\n",
      "B @ v = [-0.211319-0.077537j  0.14039 +0.059289j]\n",
      "lambda * v = [-0.211319-0.077537j  0.14039 +0.059289j]\n",
      "diferencia (Bv - lambda v) = [5.273559e-16-2.775558e-17j 8.604228e-16-6.591949e-16j]\n",
      "\n",
      "Verificación autovector 2:\n",
      "B @ v = [2.126146+3.557025j 6.779262+8.497103j]\n",
      "lambda * v = [2.126146+3.557025j 6.779262+8.497103j]\n",
      "diferencia (Bv - lambda v) = [ 1.332268e-15+0.j -8.881784e-16+0.j]\n"
     ]
    }
   ],
   "source": [
    "import numpy as np\n",
    "\n",
    "# Definir la matriz compleja B (asegúrate dtype=complex)\n",
    "B = np.array([[1+2j, 2+3j],\n",
    "              [4+5j, 6+7j]], dtype=complex)\n",
    "\n",
    "# Calcular eigenvalores y eigenvectores\n",
    "evals_B, evecs_B = np.linalg.eig(B)\n",
    "\n",
    "# Imprimir resultado\n",
    "np.set_printoptions(precision=6, suppress=False)\n",
    "print(\"Matriz B:\\n\", B)\n",
    "print(\"\\nEigenvalores (values):\\n\", evals_B)\n",
    "print(\"\\nEigenvectores (columnas):\\n\", evecs_B)\n",
    "\n",
    "# Verificación numérica: T * v = lambda * v (para cada autovector)\n",
    "for i in range(len(evals_B)):\n",
    "    lhs = B @ evecs_B[:, i]\n",
    "    rhs = evals_B[i] * evecs_B[:, i]\n",
    "    print(f\"\\nVerificación autovector {i+1}:\")\n",
    "    print(\"B @ v =\", lhs)\n",
    "    print(\"lambda * v =\", rhs)\n",
    "    print(\"diferencia (Bv - lambda v) =\", lhs - rhs)\n"
   ]
  },
  {
   "cell_type": "markdown",
   "id": "6a5772f3",
   "metadata": {},
   "source": [
    "## Exercise 3: Symmetric Matrix Eigendecomposition\n",
    "\n",
    "Compute the eigenvalues and eigenvectors of the following symmetric matrix:\n",
    "\n",
    "$$\n",
    "C = \\begin{pmatrix}\n",
    "5 & 4 \\\\\n",
    "4 & 5\n",
    "\\end{pmatrix}\n",
    "$$\n",
    "\n",
    "Discuss the properties of the eigenvectors and eigenvalues for symmetric matrices based on your results."
   ]
  },
  {
   "cell_type": "code",
   "execution_count": 6,
   "id": "707c8840",
   "metadata": {},
   "outputs": [
    {
     "name": "stdout",
     "output_type": "stream",
     "text": [
      "Matriz C:\n",
      " [[5. 4.]\n",
      " [4. 5.]]\n",
      "Eigenvalores: [9. 1.]\n",
      "Eigenvectores (columnas):\n",
      " [[ 0.707107 -0.707107]\n",
      " [ 0.707107  0.707107]]\n",
      "Eigenvectores normalizados (columnas):\n",
      " [[ 0.707107 -0.707107]\n",
      " [ 0.707107  0.707107]]\n",
      "Producto punto entre eigenvectores normalizados (≈0): -4.266421588589642e-17\n"
     ]
    }
   ],
   "source": [
    "import numpy as np\n",
    "\n",
    "C = np.array([[5, 4],\n",
    "              [4, 5]], dtype=float)\n",
    "\n",
    "evals_C, evecs_C = np.linalg.eig(C)\n",
    "\n",
    "print(\"Matriz C:\\n\", C)\n",
    "print(\"Eigenvalores:\", evals_C)\n",
    "print(\"Eigenvectores (columnas):\\n\", evecs_C)\n",
    "\n",
    "# Normalizar eigenvectores (opcional)\n",
    "evecs_C_norm = evecs_C / np.linalg.norm(evecs_C, axis=0)\n",
    "print(\"Eigenvectores normalizados (columnas):\\n\", evecs_C_norm)\n",
    "\n",
    "# Comprobación ortogonalidad\n",
    "dot01 = np.dot(evecs_C_norm[:,0].conj(), evecs_C_norm[:,1])\n",
    "print(\"Producto punto entre eigenvectores normalizados (≈0):\", dot01)\n"
   ]
  },
  {
   "cell_type": "markdown",
   "id": "3f2a627f",
   "metadata": {},
   "source": [
    "## Exercise 4: Plotting Matrix Transformations\n",
    "\n",
    "Consider the matrix:\n",
    "\n",
    "$$\n",
    "T = \\begin{pmatrix}\n",
    "2 & 1 \\\\\n",
    "1 & 3\n",
    "\\end{pmatrix}\n",
    "$$\n",
    "\n",
    "1. Plot the unit circle.\n",
    "2. Apply the matrix \\(T\\) to transform the unit circle.\n",
    "3. Plot the transformed figure.\n",
    "4. Show graphically that the eigenvectors are only multiplied by an escalar when transformed. (Plot the eigen vectors and the transformed ones) \n",
    "\n",
    "Explain how the matrix \\(T\\) transforms the unit circle based on the resulting plot.\n",
    "\n",
    "**Hint:** Use `numpy` for matrix operations and `matplotlib` for plotting."
   ]
  },
  {
   "cell_type": "code",
   "execution_count": 7,
   "id": "99e9bdc0",
   "metadata": {},
   "outputs": [
    {
     "ename": "ModuleNotFoundError",
     "evalue": "No module named 'matplotlib'",
     "output_type": "error",
     "traceback": [
      "\u001b[31m---------------------------------------------------------------------------\u001b[39m",
      "\u001b[31mModuleNotFoundError\u001b[39m                       Traceback (most recent call last)",
      "\u001b[36mCell\u001b[39m\u001b[36m \u001b[39m\u001b[32mIn[7]\u001b[39m\u001b[32m, line 2\u001b[39m\n\u001b[32m      1\u001b[39m \u001b[38;5;28;01mimport\u001b[39;00m\u001b[38;5;250m \u001b[39m\u001b[34;01mnumpy\u001b[39;00m\u001b[38;5;250m \u001b[39m\u001b[38;5;28;01mas\u001b[39;00m\u001b[38;5;250m \u001b[39m\u001b[34;01mnp\u001b[39;00m\n\u001b[32m----> \u001b[39m\u001b[32m2\u001b[39m \u001b[38;5;28;01mimport\u001b[39;00m\u001b[38;5;250m \u001b[39m\u001b[34;01mmatplotlib\u001b[39;00m\u001b[34;01m.\u001b[39;00m\u001b[34;01mpyplot\u001b[39;00m\u001b[38;5;250m \u001b[39m\u001b[38;5;28;01mas\u001b[39;00m\u001b[38;5;250m \u001b[39m\u001b[34;01mplt\u001b[39;00m\n\u001b[32m      4\u001b[39m \u001b[38;5;66;03m# Definir la matriz T\u001b[39;00m\n\u001b[32m      5\u001b[39m T = np.array([[\u001b[32m2\u001b[39m, \u001b[32m1\u001b[39m],\n\u001b[32m      6\u001b[39m               [\u001b[32m1\u001b[39m, \u001b[32m3\u001b[39m]])\n",
      "\u001b[31mModuleNotFoundError\u001b[39m: No module named 'matplotlib'"
     ]
    }
   ],
   "source": [
    "import numpy as np\n",
    "import matplotlib.pyplot as plt\n",
    "\n",
    "# Definir la matriz T\n",
    "T = np.array([[2, 1],\n",
    "              [1, 3]])\n",
    "\n",
    "# Generar puntos de la circunferencia unidad\n",
    "theta = np.linspace(0, 2*np.pi, 200)\n",
    "circle = np.array([np.cos(theta), np.sin(theta)])  # shape (2,200)\n",
    "\n",
    "# Aplicar transformación lineal T a todos los puntos\n",
    "transformed_circle = T @ circle\n",
    "\n",
    "# Calcular autovalores y autovectores de T\n",
    "evals, evecs = np.linalg.eig(T)\n",
    "\n",
    "# Normalizar los eigenvectores para graficarlos mejor\n",
    "evecs_norm = evecs / np.linalg.norm(evecs, axis=0)\n",
    "\n",
    "# Transformar los eigenvectores (deben quedar multiplicados por λ)\n",
    "transformed_evecs = T @ evecs_norm\n",
    "\n",
    "# ---------------- PLOTEO ----------------\n",
    "plt.figure(figsize=(8,8))\n",
    "plt.axhline(0, color=\"gray\", linewidth=0.5)\n",
    "plt.axvline(0, color=\"gray\", linewidth=0.5)\n",
    "\n",
    "# Circunferencia unidad\n",
    "plt.plot(circle[0], circle[1], 'b', label=\"Unit circle\")\n",
    "\n",
    "# Circunferencia transformada\n",
    "plt.plot(transformed_circle[0], transformed_circle[1], 'r', label=\"Transformed circle\")\n",
    "\n",
    "# Eigenvectores originales (azules con flecha)\n",
    "for i in range(evecs_norm.shape[1]):\n",
    "    plt.quiver(0, 0, evecs_norm[0,i], evecs_norm[1,i],\n",
    "               angles=\"xy\", scale_units=\"xy\", scale=1, color=\"blue\", width=0.008)\n",
    "\n",
    "# Eigenvectores transformados (rojos con flecha)\n",
    "for i in range(transformed_evecs.shape[1]):\n",
    "    plt.quiver(0, 0, transformed_evecs[0,i], transformed_evecs[1,i],\n",
    "               angles=\"xy\", scale_units=\"xy\", scale=1, color=\"red\", width=0.008)\n",
    "\n",
    "plt.gca().set_aspect(\"equal\", adjustable=\"box\")\n",
    "plt.legend()\n",
    "plt.title(\"Transformación de la unidad por T\")\n",
    "plt.show()\n",
    "\n",
    "# ---------------- EXPLICACIÓN ----------------\n",
    "print(\"Eigenvalores:\", evals)\n",
    "print(\"Eigenvectores (columnas):\\n\", evecs)\n"
   ]
  },
  {
   "cell_type": "markdown",
   "id": "3211f95a",
   "metadata": {},
   "source": [
    "## Exercise 5: Diagonal Matrix Eigendecomposition\n",
    "\n",
    "Compute the eigenvalues and eigenvectors of the following diagonal matrix:\n",
    "\n",
    "$$\n",
    "D = \\begin{pmatrix}\n",
    "7 & 0 \\\\\n",
    "0 & -3\n",
    "\\end{pmatrix}\n",
    "$$\n",
    "\n",
    "Discuss the significance of the eigenvalues and eigenvectors for diagonal matrices.\n"
   ]
  },
  {
   "cell_type": "code",
   "execution_count": null,
   "id": "955d109d",
   "metadata": {},
   "outputs": [],
   "source": [
    "import numpy as np\n",
    "\n",
    "# Matriz diagonal D\n",
    "D = np.array([[7, 0],\n",
    "              [0, -3]], dtype=float)\n",
    "\n",
    "# Cálculo de eigenvalores y eigenvectores\n",
    "evals_D, evecs_D = np.linalg.eig(D)\n",
    "\n",
    "print(\"Matriz D:\\n\", D)\n",
    "print(\"\\nEigenvalores:\", evals_D)\n",
    "print(\"\\nEigenvectores (columnas):\\n\", evecs_D)\n",
    "\n",
    "# Verificación numérica: D * v = lambda * v\n",
    "for i in range(len(evals_D)):\n",
    "    lhs = D @ evecs_D[:, i]\n",
    "    rhs = evals_D[i] * evecs_D[:, i]\n",
    "    print(f\"\\nVerificación autovector {i+1}:\")\n",
    "    print(\"D @ v =\", lhs)\n",
    "    print(\"lambda * v =\", rhs)\n",
    "    print(\"D@v - lambda*v =\", lhs - rhs)\n"
   ]
  }
 ],
 "metadata": {
  "kernelspec": {
   "display_name": "Python 3",
   "language": "python",
   "name": "python3"
  },
  "language_info": {
   "codemirror_mode": {
    "name": "ipython",
    "version": 3
   },
   "file_extension": ".py",
   "mimetype": "text/x-python",
   "name": "python",
   "nbconvert_exporter": "python",
   "pygments_lexer": "ipython3",
   "version": "3.13.2"
  }
 },
 "nbformat": 4,
 "nbformat_minor": 5
}
