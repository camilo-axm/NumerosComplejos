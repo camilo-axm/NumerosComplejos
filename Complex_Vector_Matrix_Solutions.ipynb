{
 "cells": [
  {
   "cell_type": "markdown",
   "id": "2fa8cc7b",
   "metadata": {},
   "source": [
    "\n",
    "Solución Taller Complex Vector & Matrix Exercises\n",
    "Nombre: Camilo Aguirre\n",
    "CNYT-2025-2"
   ]
  },
  {
   "cell_type": "code",
   "execution_count": null,
   "id": "80e19132",
   "metadata": {},
   "outputs": [],
   "source": [
    "import numpy as np\n",
    "from numpy import conj\n",
    "np.set_printoptions(precision=10, suppress=True)\n"
   ]
  },
  {
   "cell_type": "markdown",
   "id": "e21d5d30",
   "metadata": {},
   "source": [
    "### Exercise 1: Sum of Two Complex Vectors\n",
    "Given two complex vectors \n",
    "$ v1 = \\begin{bmatrix} 1 + 2i \\\\ 3 - i \\end{bmatrix} $ \n",
    "and \n",
    "$ v2 = \\begin{bmatrix} 2 - i \\\\ 4 + 2i \\end{bmatrix} $, \n",
    "find their sum."
   ]
  },
  {
   "cell_type": "code",
   "execution_count": null,
   "id": "8c1af44f",
   "metadata": {},
   "outputs": [],
   "source": [
    "import numpy as np\n",
    "\n",
    "# Definir los vectores complejos\n",
    "v1 = np.array([1+2j, 3-1j])\n",
    "v2 = np.array([2-1j, 4+2j])\n",
    "\n",
    "# Suma de vectores\n",
    "sum_v = v1 + v2\n",
    "v1, v2, sum_v\n",
    "\n",
    "print(\"Exercise 1\")\n",
    "print(\"v1 =\\n\", v1)\n",
    "print(\"v2 =\\n\", v2)\n",
    "print(\"Sum =\\n\", res1, \"\\n\")\n"
   ]
  },
  {
   "cell_type": "markdown",
   "id": "cc902926",
   "metadata": {},
   "source": [
    "### Exercise 2: Negation of a Complex Vector\n",
    "Given a complex vector \n",
    "$ v = \\begin{bmatrix} 2 + 3i \\\\ 1 - 2i \\end{bmatrix} $, \n",
    "find its negation."
   ]
  },
  {
   "cell_type": "code",
   "execution_count": null,
   "id": "f7126e5e",
   "metadata": {},
   "outputs": [],
   "source": [
    "import numpy as np\n",
    "\n",
    "# Vector complejo\n",
    "v = np.array([2+3j, 1-2j])\n",
    "\n",
    "# Negación\n",
    "neg_v = -v\n",
    "v, neg_v\n"
   ]
  },
  {
   "cell_type": "markdown",
   "id": "04447d4f",
   "metadata": {},
   "source": [
    "### Exercise 3: Multiplication of a Complex Vector by a Scalar\n",
    "Multiply the complex vector \n",
    "$ v = \\begin{bmatrix} 1 - i \\\\ 2 + 2i \\end{bmatrix} $ \n",
    "by the complex scalar $$ 3 + i $$"
   ]
  },
  {
   "cell_type": "code",
   "execution_count": null,
   "id": "45b23614",
   "metadata": {},
   "outputs": [],
   "source": [
    "import numpy as np\n",
    "\n",
    "# Vector complejo\n",
    "v = np.array([1-1j, 2+2j])\n",
    "\n",
    "# Escalar complejo\n",
    "scalar = 3+1j\n",
    "\n",
    "# Multiplicación escalar * vector\n",
    "scalar_v = scalar * v\n",
    "scalar, v, scalar_v\n"
   ]
  },
  {
   "cell_type": "markdown",
   "id": "aac8a4b7",
   "metadata": {},
   "source": [
    "### Exercise 4: Transpose of a Complex Vector\n",
    "Find the transpose of the complex vector \n",
    "$ v = \\begin{bmatrix} 2 - i \\\\ 3 + 4i \\end{bmatrix} $."
   ]
  },
  {
   "cell_type": "code",
   "execution_count": null,
   "id": "d9351c6f",
   "metadata": {},
   "outputs": [],
   "source": [
    "import numpy as np\n",
    "\n",
    "# Vector complejo (columna)\n",
    "v = np.array([[2-1j], [3+4j]])\n",
    "\n",
    "# Transpuesta\n",
    "v_T = v.T\n",
    "v, v_T\n"
   ]
  },
  {
   "cell_type": "markdown",
   "id": "be9a132f",
   "metadata": {},
   "source": [
    "### Exercise 5: Conjugate of a Complex Vector\n",
    "Compute the conjugate of the complex vector \n",
    "$ v = \\begin{bmatrix} 1 + i \\\\ 2 - 3i \\end{bmatrix} $."
   ]
  },
  {
   "cell_type": "code",
   "execution_count": null,
   "id": "87306b66",
   "metadata": {},
   "outputs": [],
   "source": [
    "import numpy as np\n",
    "\n",
    "# Vector complejo\n",
    "v = np.array([1+1j, 2-3j])\n",
    "\n",
    "# Conjugado\n",
    "v_conj = np.conjugate(v)\n",
    "v, v_conj\n"
   ]
  },
  {
   "cell_type": "markdown",
   "id": "c519c76a",
   "metadata": {},
   "source": [
    "### Exercise 6: Adjunct (Conjugate Transpose) of a Complex Vector\n",
    "Find the adjunct (or conjugate transpose) of the complex vector \n",
    "$ v = \\begin{bmatrix} 1 - 2i \\\\ 3 + i \\end{bmatrix} $.\n"
   ]
  },
  {
   "cell_type": "code",
   "execution_count": null,
   "id": "e2f14680",
   "metadata": {},
   "outputs": [],
   "source": [
    "import numpy as np\n",
    "\n",
    "# Vector complejo (columna)\n",
    "v = np.array([[1-2j], [3+1j]])\n",
    "\n",
    "# Conjugada transpuesta (Hermitiano)\n",
    "v_adj = np.conjugate(v.T)\n",
    "v, v_adj\n"
   ]
  },
  {
   "cell_type": "markdown",
   "id": "11e07d08",
   "metadata": {},
   "source": [
    "## Complex Square Matrix Operations\n",
    "\n",
    "### Exercise 7: Sum of Two Complex Matrices\n",
    "Given two complex matrices \n",
    "$ m1 = \\begin{bmatrix} 1 + i & 2 - i \\\\ 3 + 2i & 4 \\end{bmatrix} $\n",
    "and \n",
    "$ m2 = \\begin{bmatrix} 2 - 3i & 1 \\\\ i & 2 + 2i \\end{bmatrix} $, \n",
    "calculate their sum."
   ]
  },
  {
   "cell_type": "code",
   "execution_count": null,
   "id": "d0f1f440",
   "metadata": {},
   "outputs": [],
   "source": [
    "import numpy as np\n",
    "\n",
    "# Definir matrices complejas\n",
    "m1 = np.array([[1+1j, 2-1j],\n",
    "               [3+2j, 4]])\n",
    "m2 = np.array([[2-3j, 1],\n",
    "               [1j, 2+2j]])\n",
    "\n",
    "# Suma de matrices\n",
    "sum_m = m1 + m2\n",
    "m1, m2, sum_m\n"
   ]
  },
  {
   "cell_type": "markdown",
   "id": "2ba3207c",
   "metadata": {},
   "source": [
    "### Exercise 8: Negation of a Complex Matrix\n",
    "Find the negation of the complex matrix \n",
    "$ m = \\begin{bmatrix} 2 + i & 3 \\\\ 1 - i & 2 + 2i \\end{bmatrix} $.\n"
   ]
  },
  {
   "cell_type": "code",
   "execution_count": null,
   "id": "63d5343e",
   "metadata": {},
   "outputs": [],
   "source": [
    "import numpy as np\n",
    "\n",
    "# Matriz compleja\n",
    "m = np.array([[2+1j, 3],\n",
    "              [1-1j, 2+2j]])\n",
    "\n",
    "# Negación\n",
    "neg_m = -m\n",
    "m, neg_m\n"
   ]
  },
  {
   "cell_type": "markdown",
   "id": "d72c1be1",
   "metadata": {},
   "source": [
    "### Exercise 9: Multiplication of a Complex Matrix by a Scalar\n",
    "Multiply the complex matrix \n",
    "$ m = \\begin{bmatrix} 1 - i & 2 \\\\ 3 + i & 4 - 2i \\end{bmatrix} $ \n",
    "by the complex scalar $$ 2 + 3i $$."
   ]
  },
  {
   "cell_type": "code",
   "execution_count": null,
   "id": "82ad106c",
   "metadata": {},
   "outputs": [],
   "source": [
    "import numpy as np\n",
    "\n",
    "# Matriz compleja\n",
    "m = np.array([[1-1j, 2],\n",
    "              [3+1j, 4-2j]])\n",
    "\n",
    "# Escalar complejo\n",
    "scalar = 2+3j\n",
    "\n",
    "# Multiplicación\n",
    "scalar_m = scalar * m\n",
    "scalar, m, scalar_m\n"
   ]
  },
  {
   "cell_type": "markdown",
   "id": "ef4045d5",
   "metadata": {},
   "source": [
    "### Exercise 10: Conjugate of a Complex Matrix\n",
    "Compute the conjugate of the complex matrix \n",
    "$ m = \\begin{bmatrix} 1 + i & 2 \\\\ 3 - i & 4 + 2i \\end{bmatrix} $."
   ]
  },
  {
   "cell_type": "code",
   "execution_count": null,
   "id": "112c6e50",
   "metadata": {},
   "outputs": [],
   "source": [
    "import numpy as np\n",
    "\n",
    "# Matriz compleja\n",
    "m = np.array([[1+1j, 2],\n",
    "              [3-1j, 4+2j]])\n",
    "\n",
    "# Conjugado\n",
    "m_conj = np.conjugate(m)\n",
    "m, m_conj\n"
   ]
  },
  {
   "cell_type": "markdown",
   "id": "ef56db59",
   "metadata": {},
   "source": [
    "### Exercise 11: Transpose of a Complex Matrix\n",
    "Find the transpose of the complex matrix \n",
    "$ m = \\begin{bmatrix} 1 - i & 2 + 2i \\\\ 3 & 4 - i \\end{bmatrix} $."
   ]
  },
  {
   "cell_type": "code",
   "execution_count": null,
   "id": "ec0dd5c8",
   "metadata": {},
   "outputs": [],
   "source": [
    "import numpy as np\n",
    "\n",
    "# Matriz compleja\n",
    "m = np.array([[1-1j, 2+2j],\n",
    "              [3, 4-1j]])\n",
    "\n",
    "# Transpuesta\n",
    "m_T = m.T\n",
    "m, m_T\n"
   ]
  },
  {
   "cell_type": "markdown",
   "id": "d79e8336",
   "metadata": {},
   "source": [
    "\n",
    "### Exercise 12: Adjunct (Conjugate Transpose) of a Complex Matrix\n",
    "Calculate the adjunct (or conjugate transpose) of the complex matrix \n",
    "$ m = \\begin{bmatrix} 1 + 2i & 3 - i \\\\ 4 & 5 + i \\end{bmatrix} $."
   ]
  },
  {
   "cell_type": "code",
   "execution_count": null,
   "id": "ee5803a5",
   "metadata": {},
   "outputs": [],
   "source": [
    "import numpy as np\n",
    "\n",
    "# Matriz compleja\n",
    "m = np.array([[1+2j, 3-1j],\n",
    "              [4,    5+1j]])\n",
    "\n",
    "# Conjugada transpuesta (Hermitiano)\n",
    "m_adj = np.conjugate(m.T)\n",
    "m, m_adj\n"
   ]
  },
  {
   "cell_type": "markdown",
   "id": "3f93cfaf",
   "metadata": {},
   "source": [
    "### Exercise 13: Checking the Dimensions of a Matrix\n",
    "Determine the dimensions of the complex matrix \n",
    "$ m = \\begin{bmatrix} 1 - i & 2 \\\\ 3 + 2i & 4 - i \\end{bmatrix} $."
   ]
  },
  {
   "cell_type": "code",
   "execution_count": null,
   "id": "5d3717cb",
   "metadata": {},
   "outputs": [],
   "source": [
    "import numpy as np\n",
    "\n",
    "# Matriz compleja\n",
    "m = np.array([[1-1j, 2],\n",
    "              [3+2j, 4-1j]])\n",
    "\n",
    "# Dimensiones\n",
    "dims = m.shape\n",
    "m, dims\n"
   ]
  },
  {
   "cell_type": "markdown",
   "id": "97edc43d",
   "metadata": {},
   "source": [
    "### Exercise 14: Multiplying a Complex Square Matrix by a Complex Column Vector\n",
    "Multiply the complex square matrix \n",
    "$ m = \\begin{bmatrix} 1 + i & 2 - i \\\\ 3 & 4 + i \\end{bmatrix} $ \n",
    "by the complex column vector \n",
    "$ v = \\begin{bmatrix} 2 - i \\\\ 1 + 3i \\end{bmatrix} $.\n"
   ]
  },
  {
   "cell_type": "code",
   "execution_count": null,
   "id": "cd2bf4d7",
   "metadata": {},
   "outputs": [],
   "source": [
    "import numpy as np\n",
    "\n",
    "# Matriz compleja\n",
    "m = np.array([[1+1j, 2-1j],\n",
    "              [3,    4+1j]])\n",
    "\n",
    "# Vector complejo (columna)\n",
    "v = np.array([[2-1j],\n",
    "              [1+3j]])\n",
    "\n",
    "# Multiplicación matriz * vector\n",
    "mv = np.dot(m, v)\n",
    "m, v, mv\n"
   ]
  }
 ],
 "metadata": {
  "language_info": {
   "name": "python"
  }
 },
 "nbformat": 4,
 "nbformat_minor": 5
}
