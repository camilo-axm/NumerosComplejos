{
 "cells": [
  {
   "cell_type": "markdown",
   "id": "567a5df8",
   "metadata": {},
   "source": [
    "Solución Taller Complex Numbers\n",
    "Nombre: Camilo Aguirre\n",
    "CNYT-2025-2"
   ]
  },
  {
   "cell_type": "markdown",
   "id": "266a183d",
   "metadata": {},
   "source": [
    "# Exercises on Complex Vector and Matrix Operations\n",
    "\n",
    "This set of exercises is designed to test your understanding of various concepts related to complex vector and matrix operations, which are foundational in quantum computing. Each exercise presents a concrete case for you to apply what you've learned about Hermitian matrices, Unitary matrices, and tensor products.\n",
    "\n",
    "NOTE: VERIFY YOUR COMPUTATIONS IN PAPER AND IN THE COMPUTER.\n",
    "\n",
    "## Exercise 1: Complex Hermitian Matrices\n",
    "\n",
    "Consider the matrix:\n",
    "\n",
    "$$ H = \\begin{bmatrix} 3 & 2+i \\\\ 2-i & 1 \\end{bmatrix} $$\n",
    "\n",
    "- Verify if $ H $ is a Hermitian matrix.\n",
    "- If it is, find its eigenvalues."
   ]
  },
  {
   "cell_type": "code",
   "execution_count": null,
   "id": "4e6276c8",
   "metadata": {},
   "outputs": [],
   "source": [
    "import numpy as np\n",
    "\n",
    "H = np.array([[3, 2+1j],\n",
    "              [2-1j, 1]], dtype=complex)\n",
    "\n",
    "# Verificar Hermiticidad\n",
    "print(\"H:\\n\", H)\n",
    "print(\"H hermitiana? ->\", np.allclose(H, H.conj().T))\n",
    "\n",
    "# Usar eigh (optimizada para matrices Hermitianas): devuelve autovalores reales ordenados\n",
    "evals, evecs = np.linalg.eigh(H)\n",
    "\n",
    "print(\"Autovalores:\", evals)\n",
    "print(\"Autovectores (columnas):\\n\", evecs)\n",
    "\n",
    "# Verificación numérica T*v = lambda*v\n",
    "for i in range(len(evals)):\n",
    "    lhs = H @ evecs[:, i]\n",
    "    rhs = evals[i] * evecs[:, i]\n",
    "    print(f\"\\nComprobación para autovector {i+1}:\")\n",
    "    print(\"H @ v =\", lhs)\n",
    "    print(\"lambda * v =\", rhs)\n",
    "    print(\"diferencia =\", lhs - rhs)\n"
   ]
  },
  {
   "cell_type": "markdown",
   "id": "4a1ec1d5",
   "metadata": {},
   "source": [
    "## Exercise 2: Complex Unitary Matrices\n",
    "\n",
    "Consider the matrix:\n",
    "\n",
    "$$ U = \\frac{1}{\\sqrt{2}}\\begin{bmatrix} 1 & i \\\\ i & 1 \\end{bmatrix} $$\n",
    "\n",
    "- Verify if $ U $ is a Unitary matrix.\n",
    "- Compute $ UU^\\dagger $ to confirm its Unitarity, where $ U^\\dagger $ denotes the conjugate transpose of $ U $.\n"
   ]
  },
  {
   "cell_type": "code",
   "execution_count": null,
   "id": "9a55ba9f",
   "metadata": {},
   "outputs": [],
   "source": [
    "import numpy as np\n",
    "\n",
    "U = (1/np.sqrt(2)) * np.array([[1, 1j],\n",
    "                                [1j, 1]], dtype=complex)\n",
    "\n",
    "print(\"Matriz U:\\n\", U)\n",
    "\n",
    "# Conjugado transpuesto\n",
    "U_dagger = U.conj().T\n",
    "print(\"\\nU^\\u2020 (conjugado transpuesto):\\n\", U_dagger)\n",
    "\n",
    "# Producto UU†\n",
    "product = U @ U_dagger\n",
    "print(\"\\nUU^\\u2020 =\\n\", product)\n",
    "\n",
    "# Verificación unitariedad\n",
    "print(\"\\n¿U es unitaria? ->\", np.allclose(product, np.eye(2)))\n"
   ]
  },
  {
   "cell_type": "markdown",
   "id": "34072324",
   "metadata": {},
   "source": [
    "## Exercise 3: Tensor Product for Complex Vectors\n",
    "\n",
    "Given the complex vectors:\n",
    "\n",
    "$$ \\mathbf{v} = \\begin{bmatrix} 1+i \\\\ 2-i \\end{bmatrix}, \\quad \\mathbf{w} = \\begin{bmatrix} 1-2i \\\\ 3 \\end{bmatrix} $$\n",
    "\n",
    "Calculate the tensor product $ \\mathbf{v} \\otimes \\mathbf{w} $."
   ]
  },
  {
   "cell_type": "code",
   "execution_count": null,
   "id": "16e1ed07",
   "metadata": {},
   "outputs": [],
   "source": [
    "import numpy as np\n",
    "\n",
    "v = np.array([1+1j, 2-1j])\n",
    "w = np.array([1-2j, 3])\n",
    "\n",
    "tensor_product = np.kron(v, w)\n",
    "print(\"v ⊗ w =\\n\", tensor_product)\n"
   ]
  },
  {
   "cell_type": "markdown",
   "id": "cfee3a89",
   "metadata": {},
   "source": [
    "## Exercise 4: Tensor Product for Complex Matrices\n",
    "\n",
    "Given the matrices:\n",
    "\n",
    "$$ M_1 = \\begin{bmatrix} 0 & 1 \\\\ 1 & 0 \\end{bmatrix}, \\quad M_2 = \\begin{bmatrix} i & 0 \\\\ 0 & -i \\end{bmatrix} $$\n",
    "\n",
    "Calculate the tensor product $ M_1 \\otimes M_2 $.\n"
   ]
  },
  {
   "cell_type": "code",
   "execution_count": null,
   "id": "1b54f4f7",
   "metadata": {},
   "outputs": [],
   "source": [
    "import numpy as np\n",
    "\n",
    "M1 = np.array([[0, 1],\n",
    "               [1, 0]], dtype=complex)\n",
    "\n",
    "M2 = np.array([[1j, 0],\n",
    "               [0, -1j]], dtype=complex)\n",
    "\n",
    "tensor_product = np.kron(M1, M2)\n",
    "print(\"M1 ⊗ M2 =\\n\", tensor_product)\n"
   ]
  },
  {
   "cell_type": "markdown",
   "id": "afe7ff57",
   "metadata": {},
   "source": [
    "## Exercise 5: Modelling quantum computations with vectors and matrices\n",
    "\n",
    "Using matrices and vectors, implement a model of the Mach/Zehnder interferometer.\n",
    "\n",
    "![Mach-Zehnder interferometer](images/Mach-Zehnder-Interferometer.png)"
   ]
  },
  {
   "cell_type": "code",
   "execution_count": null,
   "id": "329ded2f",
   "metadata": {},
   "outputs": [],
   "source": [
    "import numpy as np\n",
    "\n",
    "# Estado inicial |0>\n",
    "ket0 = np.array([[1],\n",
    "                 [0]])\n",
    "\n",
    "# Comp puertas\n",
    "H = (1/np.sqrt(2)) * np.array([[1, 1],\n",
    "                                [1, -1]])\n",
    "\n",
    "X = np.array([[0, 1],\n",
    "              [1, 0]])\n",
    "\n",
    "# Evolución: |ψ_final> = H · X · H · |0>\n",
    "psi_after_H1 = H @ ket0\n",
    "psi_after_X = X @ psi_after_H1\n",
    "psi_final = H @ psi_after_X\n",
    "\n",
    "print(\"Estado final del sistema:\")\n",
    "print(psi_final)\n",
    "\n",
    "# Probabilidades de medir |0> y |1>\n",
    "prob_0 = np.abs(psi_final[0,0])**2\n",
    "prob_1 = np.abs(psi_final[1,0])**2\n",
    "\n",
    "print(\"\\nProbabilidades de medición:\")\n",
    "print(f\"P(|0>) = {prob_0}\")\n",
    "print(f\"P(|1>) = {prob_1}\")\n"
   ]
  },
  {
   "cell_type": "markdown",
   "id": "4e40f505",
   "metadata": {},
   "source": [
    "## Exercise 6: Composing quantum systems \n",
    "\n",
    "Using matrices and vectors, implement a model of the following circuit.\n",
    "\n",
    "![Mach-Zehnder interferometer](images/Deutsch-Algorithm.png)\n",
    "\n",
    "Use the following MAtrix for $U_f$:\n",
    "\n",
    "![Mach-Zehnder interferometer](images/ExampleUf.png)\n",
    "\n"
   ]
  },
  {
   "cell_type": "code",
   "execution_count": null,
   "id": "ac25ec54",
   "metadata": {},
   "outputs": [],
   "source": [
    "import numpy as np\n",
    "\n",
    "# Estados base\n",
    "ket0 = np.array([[1], [0]])\n",
    "ket1 = np.array([[0], [1]])\n",
    "\n",
    "# Estado inicial |0>|1>\n",
    "psi0 = np.kron(ket0, ket1)\n",
    "\n",
    "# Hadamard\n",
    "H = (1/np.sqrt(2)) * np.array([[1, 1],\n",
    "                                [1, -1]])\n",
    "\n",
    "# H ⊗ H\n",
    "H2 = np.kron(H, H)\n",
    "\n",
    "# Uf (de la imagen)\n",
    "Uf = np.array([[0, 1, 0, 0],\n",
    "               [1, 0, 0, 0],\n",
    "               [0, 0, 1, 0],\n",
    "               [0, 0, 0, 1]])\n",
    "\n",
    "# Evolución del circuito\n",
    "psi1 = H2 @ psi0\n",
    "psi2 = Uf @ psi1\n",
    "H_I = np.kron(H, np.eye(2))\n",
    "psi3 = H_I @ psi2\n",
    "\n",
    "print(\"Estado final:\")\n",
    "print(psi3)\n",
    "\n",
    "# Probabilidades de medir el primer qubit\n",
    "p0 = np.abs(psi3[0,0])**2 + np.abs(psi3[1,0])**2\n",
    "p1 = np.abs(psi3[2,0])**2 + np.abs(psi3[3,0])**2\n",
    "\n",
    "print(\"\\nProbabilidades de medir el primer qubit:\")\n",
    "print(f\"P(|0>) = {p0}\")\n",
    "print(f\"P(|1>) = {p1}\")\n",
    "\n"
   ]
  }
 ],
 "metadata": {
  "language_info": {
   "name": "python"
  }
 },
 "nbformat": 4,
 "nbformat_minor": 5
}
